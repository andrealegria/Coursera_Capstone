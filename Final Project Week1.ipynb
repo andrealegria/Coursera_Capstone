{
    "nbformat_minor": 1, 
    "cells": [
        {
            "source": "# Housing Sales Prices & Venues Data Analysis of Lisbon", 
            "cell_type": "markdown", 
            "metadata": {
                "collapsed": true
            }
        }, 
        {
            "source": "## 1. Introduction\n\n### 1.1 Background\nLisbon is the capital and the largest city of Portugal, with an estimated population of 505,526 [1] within its administrative limits in an area of 100.05 km2 [5]. Lisbon's urban area extends beyond the city's administrative limits with a population of around 2.8 million people, being the 11th-most populous urban area in the European Union [3]. About 3 million people live in the Lisbon metropolitan area, including the Portuguese Riviera (which represents approximately 27% of the country's population) [2].\n\nTourism has been growing steadily since 2011, with hundreds of new hotels and thousands of refurbished apartments for tourists opening across Portugal, promoting the country to one of the top 3 hottest travel destinations worldwide for 2018, according to the Lonely Plant travel book publishers.The number of foreign tourists visiting Portugal rose nearly 12 percent last year to a record 12.7 million people, contributing to the once-bailed out country\u2019s strongest economic growth since 2000, official data showed on Wednesday [4].\nTourism and all travel-related revenues account for about 10 percent of Portugal\u2019s gross domestic product, which expanded 2.7 percent last year. The tourism sector is also a key source of employment and big component of exports of services [4].\n\n### 1.2 Problem\nLisbon is becoming more and more popular, which is driving major changes in the city. With the appearance of Airbnb and other lodging companies, long-term renting homes were re-converted to short-term renting since it's more profitable for landlords. This has led to a significant rise in house prices, either for buying or for long-term renting. However, prices haven't rise evenly across the city, with some neighbourhoods showing a significantly higher rise of prices when comparing to others [6]. Why is there a higher demand for housing in certain neighbourhoods? Are the neighbourhood venues the main driver of house prices?\n\n\n### 1.3 Interest\nAnyone who might want to move to Lisbon, or relocate within the city might have interest in this study. In the end, the reader should be able to understand which neighbourhoods have more expensive housing, and how they relate to each other, based on their venues.\n\n", 
            "cell_type": "markdown", 
            "metadata": {}
        }, 
        {
            "source": "## 2. Data Description\n\nThe Data used to solve this problem was:\n\n* CSV File from the Portuguese Nacional Statistics Institute (INE) website, with the average house price of Portugal, Lisbon, and Lisbon neighbourhoods over the last few years [7]. This will allow to analyze and understand how house prices have risen over the last years in Lisbon.\n\n* Geojson File provided by the Lisbon City Hall, with 3rd level Administrative Divisions of Lisbon [8]. This will allow us to visualize the neighbourhoods more clearly.\n\n* Foursquare API to get the most common venues of Lisbon neighbourhoods [9]. This will helps us characterizing the neighbourhoods based on their main venues.", 
            "cell_type": "markdown", 
            "metadata": {}
        }, 
        {
            "source": "## 3. References", 
            "cell_type": "markdown", 
            "metadata": {}
        }, 
        {
            "source": "[1] https://www.pordata.pt/MicroPage.aspx?DatabaseName=Municipios&MicroName=Popula%C3%A7%C3%A3o+residente+total+e+por+grandes+grupos+et%C3%A1rios&MicroURL=390&\n\n[2] https://dre.pt/application/dir/pdf1s/2013/09/17600/0568805724.pdf\n\n[3] http://www.demographia.com/db-worldua.pdf\n\n[4] https://www.reuters.com/article/us-portugal-tourism/portugal-tourist-arrivals-spike-12-percent-to-new-record-in-2017-idUSKCN1FY1S9\n\n[5] https://web.archive.org/web/20181105172426/http://www.dgterritorio.pt/cartografia_e_geodesia/cartografia/carta_administrativa_oficial_de_portugal_caop_/caop__download_/carta_administrativa_oficial_de_portugal___versao_2017__em_vigor_/\n\n[6] https://www.publico.pt/2018/07/31/economia/noticia/preco-das-casas-em-lisboa-e-porto-dispara-20-1839651\n    \n\n[7] https://www.ine.pt/xportal/xmain?xpid=INE&xpgid=ine_indicadores&indOcorrCod=0009484&contexto=bd&selTab=tab2&xlang=pt\n\n[8] http://dados.cm-lisboa.pt/dataset/freguesias-2012\n\n[9] https://developer.foursquare.com/", 
            "cell_type": "markdown", 
            "metadata": {}
        }, 
        {
            "execution_count": null, 
            "cell_type": "code", 
            "metadata": {}, 
            "outputs": [], 
            "source": ""
        }
    ], 
    "metadata": {
        "kernelspec": {
            "display_name": "Python 3.6", 
            "name": "python3", 
            "language": "python"
        }, 
        "language_info": {
            "mimetype": "text/x-python", 
            "nbconvert_exporter": "python", 
            "version": "3.6.8", 
            "name": "python", 
            "file_extension": ".py", 
            "pygments_lexer": "ipython3", 
            "codemirror_mode": {
                "version": 3, 
                "name": "ipython"
            }
        }
    }, 
    "nbformat": 4
}