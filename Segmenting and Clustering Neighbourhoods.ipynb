{
    "nbformat_minor": 1, 
    "cells": [
        {
            "source": "# Segmenting and Clustering Neighbourhoods in Toronto", 
            "cell_type": "markdown", 
            "metadata": {}
        }, 
        {
            "source": "In this cell we will import the necessary libraries and the table from Wikipedia", 
            "cell_type": "markdown", 
            "metadata": {}
        }, 
        {
            "execution_count": 57, 
            "cell_type": "code", 
            "metadata": {}, 
            "outputs": [
                {
                    "output_type": "stream", 
                    "name": "stdout", 
                    "text": "    Postcode           Borough  \\\n0        M1A      Not assigned   \n1        M2A      Not assigned   \n2        M3A        North York   \n3        M4A        North York   \n4        M5A  Downtown Toronto   \n5        M5A  Downtown Toronto   \n6        M6A        North York   \n7        M6A        North York   \n8        M7A      Queen's Park   \n9        M8A      Not assigned   \n10       M9A         Etobicoke   \n11       M1B       Scarborough   \n12       M1B       Scarborough   \n13       M2B      Not assigned   \n14       M3B        North York   \n15       M4B         East York   \n16       M4B         East York   \n17       M5B  Downtown Toronto   \n18       M5B  Downtown Toronto   \n19       M6B        North York   \n20       M7B      Not assigned   \n21       M8B      Not assigned   \n22       M9B         Etobicoke   \n23       M9B         Etobicoke   \n24       M9B         Etobicoke   \n25       M9B         Etobicoke   \n26       M9B         Etobicoke   \n27       M1C       Scarborough   \n28       M1C       Scarborough   \n29       M1C       Scarborough   \n..       ...               ...   \n258      M9X      Not assigned   \n259      M1Y      Not assigned   \n260      M2Y      Not assigned   \n261      M3Y      Not assigned   \n262      M4Y  Downtown Toronto   \n263      M5Y      Not assigned   \n264      M6Y      Not assigned   \n265      M7Y      East Toronto   \n266      M8Y         Etobicoke   \n267      M8Y         Etobicoke   \n268      M8Y         Etobicoke   \n269      M8Y         Etobicoke   \n270      M8Y         Etobicoke   \n271      M8Y         Etobicoke   \n272      M8Y         Etobicoke   \n273      M8Y         Etobicoke   \n274      M9Y      Not assigned   \n275      M1Z      Not assigned   \n276      M2Z      Not assigned   \n277      M3Z      Not assigned   \n278      M4Z      Not assigned   \n279      M5Z      Not assigned   \n280      M6Z      Not assigned   \n281      M7Z      Not assigned   \n282      M8Z         Etobicoke   \n283      M8Z         Etobicoke   \n284      M8Z         Etobicoke   \n285      M8Z         Etobicoke   \n286      M8Z         Etobicoke   \n287      M9Z      Not assigned   \n\n                                         Neighbourhood  \n0                                         Not assigned  \n1                                         Not assigned  \n2                                            Parkwoods  \n3                                     Victoria Village  \n4                                         Harbourfront  \n5                                          Regent Park  \n6                                     Lawrence Heights  \n7                                       Lawrence Manor  \n8                                         Not assigned  \n9                                         Not assigned  \n10                                    Islington Avenue  \n11                                               Rouge  \n12                                             Malvern  \n13                                        Not assigned  \n14                                     Don Mills North  \n15                                    Woodbine Gardens  \n16                                       Parkview Hill  \n17                                             Ryerson  \n18                                     Garden District  \n19                                           Glencairn  \n20                                        Not assigned  \n21                                        Not assigned  \n22                                          Cloverdale  \n23                                           Islington  \n24                                        Martin Grove  \n25                                    Princess Gardens  \n26                                     West Deane Park  \n27                                      Highland Creek  \n28                                          Rouge Hill  \n29                                          Port Union  \n..                                                 ...  \n258                                       Not assigned  \n259                                       Not assigned  \n260                                       Not assigned  \n261                                       Not assigned  \n262                               Church and Wellesley  \n263                                       Not assigned  \n264                                       Not assigned  \n265  Business Reply Mail Processing Centre 969 Eastern  \n266                                         Humber Bay  \n267                                   King's Mill Park  \n268                           Kingsway Park South East  \n269                                          Mimico NE  \n270                                     Old Mill South  \n271                                 The Queensway East  \n272                              Royal York South East  \n273                                           Sunnylea  \n274                                       Not assigned  \n275                                       Not assigned  \n276                                       Not assigned  \n277                                       Not assigned  \n278                                       Not assigned  \n279                                       Not assigned  \n280                                       Not assigned  \n281                                       Not assigned  \n282                           Kingsway Park South West  \n283                                          Mimico NW  \n284                                 The Queensway West  \n285                              Royal York South West  \n286                                     South of Bloor  \n287                                       Not assigned  \n\n[288 rows x 3 columns]\n"
                }
            ], 
            "source": "import pandas as pd\nimport numpy as np\n\ntables = pd.read_html(\"https://en.wikipedia.org/wiki/List_of_postal_codes_of_Canada:_M\", header=0)\n\nprint(tables[0])"
        }, 
        {
            "source": "In this cell we are going to remove all lines that don't have a defined Borough (exclude all boroughs with \"Not assigned\" value)", 
            "cell_type": "markdown", 
            "metadata": {}
        }, 
        {
            "execution_count": 61, 
            "cell_type": "code", 
            "metadata": {}, 
            "outputs": [], 
            "source": "df=tables[0]\ndf=df[df.Borough != 'Not assigned']"
        }, 
        {
            "source": "In this cell we're going to group lines by Postcode and Borough, and join the Neighbourhood strings for the same Postcode.", 
            "cell_type": "markdown", 
            "metadata": {}
        }, 
        {
            "execution_count": 63, 
            "cell_type": "code", 
            "metadata": {}, 
            "outputs": [], 
            "source": "df=df.groupby(['Postcode', 'Borough'], as_index=False).agg({\n    'Neighbourhood': lambda x: ', '.join(x)})"
        }, 
        {
            "source": "In this cell we're going to assign to all \"Not assigned\" Neighbourhoods the corresponding Borough value", 
            "cell_type": "markdown", 
            "metadata": {}
        }, 
        {
            "execution_count": 67, 
            "cell_type": "code", 
            "metadata": {}, 
            "outputs": [], 
            "source": "df['Neighbourhood'] = np.where(df['Neighbourhood'] == 'Not assigned', df['Borough'], df['Neighbourhood'])"
        }, 
        {
            "execution_count": null, 
            "cell_type": "code", 
            "metadata": {}, 
            "outputs": [], 
            "source": "In this cell we're going to find the shape of the dataframe."
        }, 
        {
            "execution_count": 74, 
            "cell_type": "code", 
            "metadata": {}, 
            "outputs": [
                {
                    "output_type": "stream", 
                    "name": "stdout", 
                    "text": "The dataframe has 103 rows\n"
                }
            ], 
            "source": "df.shape\n\nprint('The dataframe has',df.shape[0],'rows')"
        }, 
        {
            "execution_count": null, 
            "cell_type": "code", 
            "metadata": {}, 
            "outputs": [], 
            "source": ""
        }
    ], 
    "metadata": {
        "kernelspec": {
            "display_name": "Python 3.6", 
            "name": "python3", 
            "language": "python"
        }, 
        "language_info": {
            "mimetype": "text/x-python", 
            "nbconvert_exporter": "python", 
            "version": "3.6.8", 
            "name": "python", 
            "file_extension": ".py", 
            "pygments_lexer": "ipython3", 
            "codemirror_mode": {
                "version": 3, 
                "name": "ipython"
            }
        }
    }, 
    "nbformat": 4
}